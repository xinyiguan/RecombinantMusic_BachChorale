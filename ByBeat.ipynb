{
 "cells": [
  {
   "cell_type": "code",
   "execution_count": 9,
   "metadata": {},
   "outputs": [],
   "source": [
    "import music21 as m21\n",
    "import Modules as m\n",
    "import itertools\n",
    "import functools\n",
    "import numpy as np"
   ]
  },
  {
   "cell_type": "code",
   "execution_count": 10,
   "metadata": {},
   "outputs": [],
   "source": [
    "def _CombineChordList2(list1,list2):\n",
    "    return list(list1)+list([ ])+list(list2)\n",
    "\n",
    "def CombineChordLists(list_of_chordlist):\n",
    "    return functools.reduce(_CombineChordList2,list_of_chordlist)"
   ]
  },
  {
   "cell_type": "code",
   "execution_count": 11,
   "metadata": {},
   "outputs": [],
   "source": [
    "def GroupChordByBeatInMeasure(measure):\n",
    "    measure = measure.getElementsByClass('Chord')\n",
    "    total_beat = int(max(map(lambda chord: chord.beat,measure),default=0))\n",
    "    pitchnames = [[x.nameWithOctave for x in c] for c in [x.pitches for x in measure]]\n",
    "    durations = [[x.duration.quarterLength] for x in measure]\n",
    "    measure_by_beat = list(map(lambda pitchnames,durations:[pitchnames]+[durations], pitchnames, durations))\n",
    "    chord_by_beat = [[] for x in range(total_beat)]\n",
    "    for i in range(len(measure)):\n",
    "        chord_by_beat[int(measure[i].beat)-1].append(measure_by_beat[i])\n",
    "\n",
    "    return list(chord_by_beat)\n",
    "\n",
    "def GroupChordByBeatInScore(score):\n",
    "    measures = score.chordify().getElementsByClass('Measure')\n",
    "    measurelist = m.helperfuncs.F(GroupChordByBeatInMeasure,measures)\n",
    "    flattened_measures = [y for x in measurelist for y in x]\n",
    "    return flattened_measures"
   ]
  },
  {
   "cell_type": "code",
   "execution_count": 12,
   "metadata": {},
   "outputs": [],
   "source": [
    "test_scores = list(m21.corpus.chorales.Iterator(1,100))\n",
    "\n",
    "test_scores_transposed = [m.ScoreAbstraction.TransposeToCIndividual(x) for x in test_scores]\n",
    "\n",
    "test_Chordlist = CombineChordLists([GroupChordByBeatInScore(x) for x in test_scores_transposed])"
   ]
  },
  {
   "cell_type": "code",
   "execution_count": 13,
   "metadata": {},
   "outputs": [
    {
     "data": {
      "text/plain": [
       "5154"
      ]
     },
     "execution_count": 13,
     "metadata": {},
     "output_type": "execute_result"
    }
   ],
   "source": [
    "len(test_Chordlist)"
   ]
  },
  {
   "cell_type": "code",
   "execution_count": 14,
   "metadata": {},
   "outputs": [
    {
     "data": {
      "text/plain": [
       "2867"
      ]
     },
     "execution_count": 14,
     "metadata": {},
     "output_type": "execute_result"
    }
   ],
   "source": [
    "uniquechords = list(np.unique(test_Chordlist))\n",
    "len(uniquechords)"
   ]
  },
  {
   "cell_type": "code",
   "execution_count": 15,
   "metadata": {},
   "outputs": [],
   "source": [
    "#[x for x in uniquechords if test_Chordlist.count(x)>2]"
   ]
  },
  {
   "cell_type": "code",
   "execution_count": 34,
   "metadata": {},
   "outputs": [],
   "source": [
    "markov_result = m.Markov_v2.Markov_model(test_Chordlist,10)"
   ]
  },
  {
   "cell_type": "code",
   "execution_count": 35,
   "metadata": {},
   "outputs": [
    {
     "data": {
      "text/plain": [
       "[[[['A2', 'C3', 'G3', 'C4'], [0.5]], [['A2', 'C3', 'F#3', 'C4'], [0.5]]],\n",
       " [[['B2', 'G3', 'D4'], [0.5]], [['G2', 'F3', 'G3', 'D4'], [0.5]]],\n",
       " [[['D3', 'F#3', 'A3'], [0.5]], [['C3', 'D3', 'F#3', 'A3'], [0.5]]],\n",
       " [[['G2', 'B2', 'D3', 'G3'], [1.0]]],\n",
       " [[['G2', 'D3', 'B3', 'D4'], [0.5]],\n",
       "  [['F#2', 'E3', 'B3', 'D4'], [0.25]],\n",
       "  [['F#2', 'F#3', 'B3', 'D4'], [0.25]]],\n",
       " [[['D2', 'F3', 'A3', 'F4'], [0.5]], [['D2', 'F3', 'B3', 'F4'], [0.5]]],\n",
       " [[['E2', 'G3', 'C4', 'E4'], [0.5]], [['F2', 'G3', 'C4', 'E4'], [0.5]]],\n",
       " [[['G2', 'G3', 'B3', 'D4'], [1.0]]],\n",
       " [[['C2', 'C3', 'G3', 'E4'], [0.5]], [['C2', 'B-2', 'G3', 'D4'], [0.5]]],\n",
       " [[['C2', 'G3', 'C4', 'E4'], [1.0]]]]"
      ]
     },
     "execution_count": 35,
     "metadata": {},
     "output_type": "execute_result"
    }
   ],
   "source": [
    "markov_result"
   ]
  },
  {
   "cell_type": "code",
   "execution_count": 47,
   "metadata": {},
   "outputs": [],
   "source": [
    "def GeneratedStream(markov_result):\n",
    "    generated_stream = m21.stream.Stream()\n",
    "    for i in range(len(markov_result)):\n",
    "        if len(markov_result[i])!=0:\n",
    "            generated_stream.append(m21.tempo.MetronomeMark(referent=0.5,number=60))\n",
    "            generated_stream.append([m21.chord.Chord(x[0],quarterLength=x[1][0]) for x in markov_result[i]])\n",
    "        if len(markov_result[i])==0:\n",
    "            generated_stream.append(m21.tempo.MetronomeMark(referent=0.5,number=60))\n",
    "            generated_stream.append([m21.note.Rest(quarterLength=1.0)])\n",
    "    return generated_stream"
   ]
  },
  {
   "cell_type": "code",
   "execution_count": 48,
   "metadata": {},
   "outputs": [],
   "source": [
    "generated_seq = GeneratedStream(markov_result)"
   ]
  },
  {
   "cell_type": "code",
   "execution_count": 49,
   "metadata": {},
   "outputs": [
    {
     "data": {
      "image/png": "[encoded data removed]",
      "text/plain": [
       "<IPython.core.display.Image object>"
      ]
     },
     "metadata": {
      "image/png": {
       "height": 106,
       "width": 748
      }
     },
     "output_type": "display_data"
    }
   ],
   "source": [
    "generated_seq.show()"
   ]
  },
  {
   "cell_type": "code",
   "execution_count": 50,
   "metadata": {},
   "outputs": [
    {
     "data": {
      "text/html": [
       "\n",
       "                <div id='midiPlayerDiv821534'></div>\n",
       "                <link rel=\"stylesheet\" href=\"//cuthbertLab.github.io/music21j/css/m21.css\"\n",
       "                    type=\"text/css\" />\n",
       "                <script>\n",
       "                require.config({\n",
       "                    paths: {'music21': '//cuthbertLab.github.io/music21j/src/music21'}\n",
       "                });\n",
       "                require(['music21'], function() {\n",
       "                               mp = new music21.miditools.MidiPlayer();\n",
       "                               mp.addPlayer('#midiPlayerDiv821534');\n",
       "                               mp.base64Load('data:audio/midi;base64,TVRoZAAAAAYAAQABBABNVHJrAAAClQD/AwAA4ABAAP9RAx6EgACQLVoAkDBaAJA3WgCQPFqEAIAtAACAMAAAgDcAAIA8AACQLVoAkDBaAJA2WgCQPFqEAIAtAACAMAAAgDYAAIA8AAD/UQMehIAAkC9aAJA3WgCQPlqEAIAvAACANwAAgD4AAJArWgCQNVoAkDdaAJA+WoQAgCsAAIA1AACANwAAgD4AAP9RAx6EgACQMloAkDZaAJA5WoQAgDIAAIA2AACAOQAAkDBaAJAyWgCQNloAkDlahACAMAAAgDIAAIA2AACAOQAA/1EDHoSAAJArWgCQL1oAkDJaAJA3WogAgCsAAIAvAACAMgAAgDcAAP9RAx6EgACQK1oAkDJaAJA7WgCQPlqEAIArAACAMgAAgDsAAIA+AACQKloAkDRaAJA7WgCQPlqCAIAqAACANAAAgDsAAIA+AACQKloAkDZaAJA7WgCQPlqCAIAqAACANgAAgDsAAIA+AAD/UQMehIAAkCZaAJA1WgCQOVoAkEFahACAJgAAgDUAAIA5AACAQQAAkCZaAJA1WgCQO1oAkEFahACAJgAAgDUAAIA7AACAQQAA/1EDHoSAAJAoWgCQN1oAkDxaAJBAWoQAgCgAAIA3AACAPAAAgEAAAJApWgCQN1oAkDxaAJBAWoQAgCkAAIA3AACAPAAAgEAAAP9RAx6EgACQK1oAkDdaAJA7WgCQPlqIAIArAACANwAAgDsAAIA+AAD/UQMehIAAkCRaAJAwWgCQN1oAkEBahACAJAAAgDAAAIA3AACAQAAAkCRaAJAuWgCQN1oAkD5ahACAJAAAgC4AAIA3AACAPgAA/1EDHoSAAJAkWgCQN1oAkDxaAJBAWogAgCQAAIA3AACAPAAAgEAAiAD/LwA=');\n",
       "                        });\n",
       "                </script>"
      ],
      "text/plain": [
       "<IPython.core.display.HTML object>"
      ]
     },
     "metadata": {},
     "output_type": "display_data"
    }
   ],
   "source": [
    "GeneratedStream(markov_result).show('midi')"
   ]
  },
  {
   "cell_type": "code",
   "execution_count": null,
   "metadata": {},
   "outputs": [],
   "source": []
  },
  {
   "cell_type": "code",
   "execution_count": null,
   "metadata": {},
   "outputs": [],
   "source": []
  }
 ],
 "metadata": {
  "kernelspec": {
   "display_name": "Python 3",
   "language": "python",
   "name": "python3"
  },
  "language_info": {
   "codemirror_mode": {
    "name": "ipython",
    "version": 3
   },
   "file_extension": ".py",
   "mimetype": "text/x-python",
   "name": "python",
   "nbconvert_exporter": "python",
   "pygments_lexer": "ipython3",
   "version": "3.7.2"
  }
 },
 "nbformat": 4,
 "nbformat_minor": 2
}
